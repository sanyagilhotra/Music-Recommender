{
 "cells": [
  {
   "cell_type": "code",
   "execution_count": 95,
   "metadata": {},
   "outputs": [],
   "source": [
    "import numpy as np\n",
    "import pandas as pd\n",
    "from sklearn.feature_extraction.text import TfidfVectorizer\n",
    "from sklearn.metrics.pairwise import cosine_similarity\n",
    "from typing import List, Dict\n",
    "from textblob import TextBlob"
   ]
  },
  {
   "cell_type": "code",
   "execution_count": 96,
   "metadata": {},
   "outputs": [],
   "source": [
    "songs = pd.read_csv('songdata (1).csv')"
   ]
  },
  {
   "cell_type": "code",
   "execution_count": 97,
   "metadata": {},
   "outputs": [
    {
     "data": {
      "text/html": [
       "<div>\n",
       "<style scoped>\n",
       "    .dataframe tbody tr th:only-of-type {\n",
       "        vertical-align: middle;\n",
       "    }\n",
       "\n",
       "    .dataframe tbody tr th {\n",
       "        vertical-align: top;\n",
       "    }\n",
       "\n",
       "    .dataframe thead th {\n",
       "        text-align: right;\n",
       "    }\n",
       "</style>\n",
       "<table border=\"1\" class=\"dataframe\">\n",
       "  <thead>\n",
       "    <tr style=\"text-align: right;\">\n",
       "      <th></th>\n",
       "      <th>artist</th>\n",
       "      <th>song</th>\n",
       "      <th>link</th>\n",
       "      <th>text</th>\n",
       "    </tr>\n",
       "  </thead>\n",
       "  <tbody>\n",
       "    <tr>\n",
       "      <th>0</th>\n",
       "      <td>ABBA</td>\n",
       "      <td>Ahe's My Kind Of Girl</td>\n",
       "      <td>/a/abba/ahes+my+kind+of+girl_20598417.html</td>\n",
       "      <td>Look at her face, it's a wonderful face  \\nAnd...</td>\n",
       "    </tr>\n",
       "    <tr>\n",
       "      <th>1</th>\n",
       "      <td>ABBA</td>\n",
       "      <td>Andante, Andante</td>\n",
       "      <td>/a/abba/andante+andante_20002708.html</td>\n",
       "      <td>Take it easy with me, please  \\nTouch me gentl...</td>\n",
       "    </tr>\n",
       "    <tr>\n",
       "      <th>2</th>\n",
       "      <td>ABBA</td>\n",
       "      <td>As Good As New</td>\n",
       "      <td>/a/abba/as+good+as+new_20003033.html</td>\n",
       "      <td>I'll never know why I had to go  \\nWhy I had t...</td>\n",
       "    </tr>\n",
       "    <tr>\n",
       "      <th>3</th>\n",
       "      <td>ABBA</td>\n",
       "      <td>Bang</td>\n",
       "      <td>/a/abba/bang_20598415.html</td>\n",
       "      <td>Making somebody happy is a question of give an...</td>\n",
       "    </tr>\n",
       "    <tr>\n",
       "      <th>4</th>\n",
       "      <td>ABBA</td>\n",
       "      <td>Bang-A-Boomerang</td>\n",
       "      <td>/a/abba/bang+a+boomerang_20002668.html</td>\n",
       "      <td>Making somebody happy is a question of give an...</td>\n",
       "    </tr>\n",
       "  </tbody>\n",
       "</table>\n",
       "</div>"
      ],
      "text/plain": [
       "  artist                   song                                        link  \\\n",
       "0   ABBA  Ahe's My Kind Of Girl  /a/abba/ahes+my+kind+of+girl_20598417.html   \n",
       "1   ABBA       Andante, Andante       /a/abba/andante+andante_20002708.html   \n",
       "2   ABBA         As Good As New        /a/abba/as+good+as+new_20003033.html   \n",
       "3   ABBA                   Bang                  /a/abba/bang_20598415.html   \n",
       "4   ABBA       Bang-A-Boomerang      /a/abba/bang+a+boomerang_20002668.html   \n",
       "\n",
       "                                                text  \n",
       "0  Look at her face, it's a wonderful face  \\nAnd...  \n",
       "1  Take it easy with me, please  \\nTouch me gentl...  \n",
       "2  I'll never know why I had to go  \\nWhy I had t...  \n",
       "3  Making somebody happy is a question of give an...  \n",
       "4  Making somebody happy is a question of give an...  "
      ]
     },
     "execution_count": 97,
     "metadata": {},
     "output_type": "execute_result"
    }
   ],
   "source": [
    "songs.head()"
   ]
  },
  {
   "cell_type": "code",
   "execution_count": 98,
   "metadata": {},
   "outputs": [
    {
     "data": {
      "text/plain": [
       "artist    0\n",
       "song      0\n",
       "link      0\n",
       "text      0\n",
       "dtype: int64"
      ]
     },
     "execution_count": 98,
     "metadata": {},
     "output_type": "execute_result"
    }
   ],
   "source": [
    "songs.isna().sum()"
   ]
  },
  {
   "cell_type": "code",
   "execution_count": 99,
   "metadata": {},
   "outputs": [],
   "source": [
    "songs['text'] = songs['text'].replace(r'\\n','')\n"
   ]
  },
  {
   "cell_type": "code",
   "execution_count": 100,
   "metadata": {},
   "outputs": [],
   "source": [
    "str=''\n",
    "for i in range(0,len(songs)):\n",
    "    str=str+songs['artist'][i]+\" \""
   ]
  },
  {
   "cell_type": "code",
   "execution_count": 101,
   "metadata": {},
   "outputs": [],
   "source": [
    "songs=songs.drop('link', axis=1).reset_index(drop=True)"
   ]
  },
  {
   "cell_type": "code",
   "execution_count": 102,
   "metadata": {},
   "outputs": [],
   "source": [
    "artists=str.split()"
   ]
  },
  {
   "cell_type": "code",
   "execution_count": 103,
   "metadata": {},
   "outputs": [],
   "source": [
    "unique_artists=set(artists)"
   ]
  },
  {
   "cell_type": "code",
   "execution_count": 104,
   "metadata": {},
   "outputs": [
    {
     "data": {
      "text/plain": [
       "989"
      ]
     },
     "execution_count": 104,
     "metadata": {},
     "output_type": "execute_result"
    }
   ],
   "source": [
    "len(unique_artists)"
   ]
  },
  {
   "cell_type": "code",
   "execution_count": 105,
   "metadata": {},
   "outputs": [],
   "source": [
    "def sentiment_analysis(input_song_lyrics, recommended_songs):\n",
    "    input_sentiment = TextBlob(input_song_lyrics).sentiment.polarity\n",
    "    sentiment_scores = {}\n",
    "    \n",
    "    for song_data in recommended_songs:\n",
    "        song_lyrics = song_data[1]  # Assuming lyrics are in the second position\n",
    "        sentiment_score = TextBlob(song_lyrics).sentiment.polarity\n",
    "        sentiment_scores[song_data[1]] = abs(sentiment_score - input_sentiment),song_data[2]\n",
    "    \n",
    "    # Sort the songs based on sentiment difference\n",
    "    sorted_songs = sorted(sentiment_scores.items(), key=lambda x: x[1])\n",
    "\n",
    "    # Return top rec_num sentimentally similar songs\n",
    "    return sorted_songs"
   ]
  },
  {
   "cell_type": "code",
   "execution_count": 106,
   "metadata": {},
   "outputs": [],
   "source": [
    "def get_selection(artist,song,text,rec_num):\n",
    "    \n",
    "    global songs\n",
    "    \n",
    "    # add the song for recommendations to the dataset\n",
    "    x={'artist':artist,'song':song,'text':text}\n",
    "    x=pd.DataFrame([x])\n",
    "    songs = songs.sample(n=3000)\n",
    "    songs=pd.concat([songs,x])\n",
    "    \n",
    "    # finding the tfidf scores for all \n",
    "    tfidf = TfidfVectorizer(analyzer='word', stop_words='english')\n",
    "    lyrics_matrix = tfidf.fit_transform(songs['text'])\n",
    "    \n",
    "    # finding the cosine similarities for the songs based on tf-idf scores\n",
    "    cosine_similarities = cosine_similarity(lyrics_matrix) \n",
    "    similarities = {}\n",
    "    \n",
    "    # stores the top 50 cosime similarities in similarities dictionary \n",
    "    for i in range(len(cosine_similarities)):\n",
    "        similar_indices = cosine_similarities[i].argsort()[:-50:-1] \n",
    "        similarities[songs['song'].iloc[i]] = [(cosine_similarities[i][x], songs['song'].iloc[x], songs['artist'].iloc[x]) for x in similar_indices][1:]\n",
    "    \n",
    "    rec_list=sentiment_analysis(text,similarities[song][1:])\n",
    "    return rec_list[:5]"
   ]
  },
  {
   "cell_type": "code",
   "execution_count": 112,
   "metadata": {},
   "outputs": [
    {
     "name": "stdout",
     "output_type": "stream",
     "text": [
      "Can't Get Used To Losing You  by  Andy Williams \n",
      "\n",
      "Hello Kitty  by  Avril Lavigne \n",
      "\n",
      "She's A Dream  by  Backstreet Boys \n",
      "\n",
      "Bye Bye Bluebird  by  Boney M. \n",
      "\n",
      "Poem 58  by  Chicago \n",
      "\n",
      "The Road To Hell (Part 2)  by  Chris Rea \n",
      "\n",
      "Let It Die  by  Ellie Goulding \n",
      "\n",
      "Everlong  by  Foo Fighters \n",
      "\n",
      "The Seed Of A Lie  by  Gary Numan \n",
      "\n",
      "Robbery, Assault And Battery  by  Genesis \n",
      "\n",
      "America  by  Glee \n",
      "\n",
      "Looking Into You  by  Jackson Browne \n",
      "\n",
      "Charon  by  King Diamond \n",
      "\n",
      "Hello  by  LL Cool J \n",
      "\n",
      "Mr Loverboy  by  Little Mix \n",
      "\n",
      "Hello Stranger  by  Marianne Faithfull \n",
      "\n",
      "Melodie  by  Michael Jackson \n",
      "\n",
      "Preservation  by  Nazareth \n",
      "\n",
      "Hello, I Am Your Heart  by  Nitty Gritty Dirt Band \n",
      "\n",
      "Can I Get Witcha  by  Notorious B.I.G. \n",
      "\n",
      "Numa Numa (English Version)  by  O-Zone \n",
      "\n",
      "About An Hour Ago  by  O.A.R. \n",
      "\n",
      "Homeless  by  Paul Simon \n",
      "\n",
      "The Fairy Feller's Master Stroke  by  Queen \n",
      "\n",
      "I'll Walk With God  by  Religious Music \n",
      "\n",
      "Louise  by  Robbie Williams \n",
      "\n",
      "Mr. Soul  by  Rush \n",
      "\n",
      "Take A Friend  by  Rush \n",
      "\n",
      "Thumbs  by  Sabrina Carpenter \n",
      "\n",
      "Life By The Drop  by  Stevie Ray Vaughan \n",
      "\n",
      "JUST WHO IS THE 5 O'CLOCK HERO?  by  The Jam \n",
      "\n",
      "Comin' Home  by  Tim McGraw \n",
      "\n",
      "Let It Rain  by  Ufo \n",
      "\n",
      "Coffin Text  by  Unwritten Law \n",
      "\n",
      "Echo  by  Vertical Horizon \n",
      "\n",
      "Ritual  by  Yes \n",
      "\n",
      "Playmate Of The Year  by  Zebrahead \n",
      "\n",
      "Big Tigger Live On The Radio  by  Lil Wayne \n",
      "\n",
      "Halloween On Military Street  by  Insane Clown Posse \n",
      "\n",
      "Hello Old Friend  by  James Taylor \n",
      "\n",
      "I Didn't Mean To Kill 'Em  by  Insane Clown Posse \n",
      "\n",
      "Have You Ever Been In Love  by  Westlife \n",
      "\n",
      "Filthy Pop  by  Lady Gaga \n",
      "\n",
      "Fly By Night  by  Rush \n",
      "\n",
      "Beautiful Times  by  Owl City \n",
      "\n"
     ]
    }
   ],
   "source": []
  }
 ],
 "metadata": {
  "kernelspec": {
   "display_name": "Python 3",
   "language": "python",
   "name": "python3"
  },
  "language_info": {
   "codemirror_mode": {
    "name": "ipython",
    "version": 3
   },
   "file_extension": ".py",
   "mimetype": "text/x-python",
   "name": "python",
   "nbconvert_exporter": "python",
   "pygments_lexer": "ipython3",
   "version": "3.11.4"
  }
 },
 "nbformat": 4,
 "nbformat_minor": 2
}
